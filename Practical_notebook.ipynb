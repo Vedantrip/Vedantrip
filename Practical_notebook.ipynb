{
  "nbformat": 4,
  "nbformat_minor": 0,
  "metadata": {
    "colab": {
      "name": "Practical notebook.ipynb",
      "provenance": [],
      "collapsed_sections": [],
      "authorship_tag": "ABX9TyMHkGNdLe5Te1ypzgDlO85l",
      "include_colab_link": true
    },
    "kernelspec": {
      "name": "python3",
      "display_name": "Python 3"
    },
    "language_info": {
      "name": "python"
    }
  },
  "cells": [
    {
      "cell_type": "markdown",
      "metadata": {
        "id": "view-in-github",
        "colab_type": "text"
      },
      "source": [
        "<a href=\"https://colab.research.google.com/github/Vedantrip/Vedantrip/blob/main/Practical_notebook.ipynb\" target=\"_parent\"><img src=\"https://colab.research.google.com/assets/colab-badge.svg\" alt=\"Open In Colab\"/></a>"
      ]
    },
    {
      "cell_type": "markdown",
      "metadata": {
        "id": "L8aVFP9kV57_"
      },
      "source": [
        "To swap two number \n"
      ]
    },
    {
      "cell_type": "code",
      "metadata": {
        "id": "eZqf4LUKSHjM",
        "colab": {
          "base_uri": "https://localhost:8080/"
        },
        "outputId": "f393af6b-a07c-4946-e69a-60fb40d7c9c6"
      },
      "source": [
        "x = input(\"enter a number\")\n",
        "y = input(\"enter a number\")\n",
        "\n",
        "x, y = y, x\n",
        "print(\"x =\",x)\n",
        "print(\"y =\",y)"
      ],
      "execution_count": null,
      "outputs": [
        {
          "output_type": "stream",
          "text": [
            "enter a number12\n",
            "enter a number14\n",
            "x = 14\n",
            "y = 12\n"
          ],
          "name": "stdout"
        }
      ]
    },
    {
      "cell_type": "markdown",
      "metadata": {
        "id": "FTvhbsN_fV7d"
      },
      "source": [
        "To Calculate the area and taking the input from the user "
      ]
    },
    {
      "cell_type": "code",
      "metadata": {
        "colab": {
          "base_uri": "https://localhost:8080/"
        },
        "id": "o43QjFMhQYpu",
        "outputId": "37940670-c98f-43cc-e8a8-0267947a4cd5"
      },
      "source": [
        "l=int(input(\"Length : \"))\n",
        "w=int(input(\"Width : \"))\n",
        "area=l*w\n",
        "perimeter=2*(l+w)\n",
        "print(\"Area of Rectangle : \",area)\n",
        "print(\"Perimeter of Rectangle : \",perimeter)"
      ],
      "execution_count": null,
      "outputs": [
        {
          "output_type": "stream",
          "text": [
            "Length : 12\n",
            "Width : 13\n",
            "Area of Rectangle :  156\n",
            "Perimeter of Rectangle :  50\n"
          ],
          "name": "stdout"
        }
      ]
    },
    {
      "cell_type": "markdown",
      "metadata": {
        "id": "A6sGO252RmxV"
      },
      "source": [
        "To calculate the area and Perimeter of Square"
      ]
    },
    {
      "cell_type": "code",
      "metadata": {
        "colab": {
          "base_uri": "https://localhost:8080/"
        },
        "id": "Rru1zEMqRTcf",
        "outputId": "e739935c-3c6d-4791-ddb9-971120f1449b"
      },
      "source": [
        "s=int(input(\"Side : \"))\n",
        "Area=s*s\n",
        "Perimeter=4*s\n",
        "print(\"Area of square : \",Area)\n",
        "print(\"Perimeter of square : \",Perimeter)"
      ],
      "execution_count": null,
      "outputs": [
        {
          "output_type": "stream",
          "text": [
            "Side : 12\n",
            "Area of square :  144\n",
            "Perimeter of square :  48\n"
          ],
          "name": "stdout"
        }
      ]
    },
    {
      "cell_type": "markdown",
      "metadata": {
        "id": "D_wqVNj1RwlD"
      },
      "source": [
        "To take input of radius from user and then give the Perimeter and Area of a Circle."
      ]
    },
    {
      "cell_type": "code",
      "metadata": {
        "colab": {
          "base_uri": "https://localhost:8080/"
        },
        "id": "QOsnZsxp7LTf",
        "outputId": "10282faf-213c-4d50-94c0-8d67310fdc8d"
      },
      "source": [
        "PI = 3.14\n",
        "r = float(input(\"Enter the radius of a circle:\"))\n",
        "area = PI * r * r\n",
        "print(\"Area of a circle = %.2f\" %area)"
      ],
      "execution_count": null,
      "outputs": [
        {
          "output_type": "stream",
          "text": [
            "Enter the radius of a circle:2\n",
            "Area of a circle = 12.56\n"
          ],
          "name": "stdout"
        }
      ]
    },
    {
      "cell_type": "markdown",
      "metadata": {
        "id": "kzdflQtXKWc7"
      },
      "source": [
        "Accept the units of electricity consumed by the user and generate the electricity bill based on the following billing criteria:\n",
        "No of units charges =100 0.50 Re\n",
        "Above 100 till 200 units 1Re\n",
        "Above 200 units 2 Rs"
      ]
    },
    {
      "cell_type": "code",
      "metadata": {
        "colab": {
          "base_uri": "https://localhost:8080/"
        },
        "id": "7UJdcAsfKh9f",
        "outputId": "e16b0986-d759-4533-c238-340997de5279"
      },
      "source": [
        "def calculBill(uni):\n",
        "\n",
        "\tif (uni <= 100):\n",
        "\t\treturn (uni * 0.50);\n",
        "\t\n",
        "\telif (uni <= 200):\t\n",
        "\t\treturn (uni * 1);\n",
        "\n",
        "\telif (uni > 200):\n",
        "\t\t\treturn (uni * 2);\n",
        "\t\n",
        "\treturn 0;\n",
        "uni = int(input(\"Enter the Unit of electricity:\"));\n",
        "print('Rs', calculBill(uni));"
      ],
      "execution_count": null,
      "outputs": [
        {
          "output_type": "stream",
          "name": "stdout",
          "text": [
            "Enter the Unit of electricity:210\n",
            "Rs 420\n"
          ]
        }
      ]
    },
    {
      "cell_type": "markdown",
      "metadata": {
        "id": "OXCrpsSaS8hx"
      },
      "source": [
        "Print the Fibonacci series till the level entered by the user"
      ]
    },
    {
      "cell_type": "code",
      "metadata": {
        "id": "kaZFu2hCWWDH"
      },
      "source": [
        "def fib(n):\n",
        "    a = 0\n",
        "    b = 1\n",
        "    if n == 1:\n",
        "        print(a)\n",
        "    else:\n",
        "        print(a)\n",
        "        print(b)\n",
        "        for i in range(2,n):\n",
        "            c = a + b\n",
        "            a = b\n",
        "            b = c\n",
        "            print(c)\n",
        "fib(10)"
      ],
      "execution_count": null,
      "outputs": []
    },
    {
      "cell_type": "code",
      "metadata": {
        "colab": {
          "base_uri": "https://localhost:8080/"
        },
        "id": "TnvEu68TXJsu",
        "outputId": "6e191331-a624-40eb-91e3-400c0cc5c35d"
      },
      "source": [
        "#Print all the odd numbers between the range 50 and 100\n",
        "st, en = 50,99\n",
        "  \n",
        "for num in range(st, en + 1):\n",
        "      \n",
        "if num % 2 != 0:\n",
        "   print(num, end = \" \")"
      ],
      "execution_count": null,
      "outputs": [
        {
          "output_type": "stream",
          "text": [
            "51 53 55 57 59 61 63 65 67 69 71 73 75 77 79 81 83 85 87 89 91 93 95 97 99 "
          ],
          "name": "stdout"
        }
      ]
    },
    {
      "cell_type": "code",
      "metadata": {
        "colab": {
          "base_uri": "https://localhost:8080/"
        },
        "id": "xloP9ODRdu2Q",
        "outputId": "29f90141-8f65-48c9-ee44-048967bf2d3a"
      },
      "source": [
        "#Print all the multiples of 5 in the range between 1 to the number entered by the user.\n",
        "x=int(input(\"enter the end level\"))\n",
        "print(*range(5, x, 5)) \n"
      ],
      "execution_count": null,
      "outputs": [
        {
          "output_type": "stream",
          "text": [
            "enter the end level 20\n",
            "5 10 15\n"
          ],
          "name": "stdout"
        }
      ]
    },
    {
      "cell_type": "code",
      "metadata": {
        "colab": {
          "base_uri": "https://localhost:8080/"
        },
        "id": "OwIGrOhTj33l",
        "outputId": "6602b133-9abf-476a-cf33-302f32cf7955"
      },
      "source": [
        "#To check whether the number given by User is Prime number or not\n",
        "def PrimeChecker(a):  \n",
        "  \n",
        "    if a > 1:  \n",
        "        \n",
        "        for j in range(2, int(a/2) + 1):  \n",
        "         \n",
        "            if (a % j) == 0:  \n",
        "                print(a, \"is not a prime number\")  \n",
        "                break  \n",
        "     \n",
        "        else:  \n",
        "            print(a, \"is a prime number\")  \n",
        "   \n",
        "    else:  \n",
        "        print(a, \"is not a prime number\")  \n",
        " \n",
        "a = int(input(\"Enter an input number:\"))  \n",
        " \n",
        "PrimeChecker(a)  "
      ],
      "execution_count": null,
      "outputs": [
        {
          "output_type": "stream",
          "text": [
            "Enter an input number:12\n",
            "12 is not a prime number\n"
          ],
          "name": "stdout"
        }
      ]
    },
    {
      "cell_type": "code",
      "metadata": {
        "colab": {
          "base_uri": "https://localhost:8080/"
        },
        "id": "ItWhQog0Jcjo",
        "outputId": "9d4e3b89-c57a-4fd7-caa1-a789a8d51742"
      },
      "source": [
        "#Question 7(b) \n",
        "for i in range (1,6):\n",
        "    for j in range(1,i+1):\n",
        "        print(int (j),end=\"\")\n",
        "    print()"
      ],
      "execution_count": null,
      "outputs": [
        {
          "output_type": "stream",
          "text": [
            "1\n",
            "12\n",
            "123\n",
            "1234\n",
            "12345\n"
          ],
          "name": "stdout"
        }
      ]
    },
    {
      "cell_type": "code",
      "metadata": {
        "colab": {
          "base_uri": "https://localhost:8080/"
        },
        "id": "8osSyv8VkdNa",
        "outputId": "72c3041a-ce41-492f-fbf7-6246c1a38cdd"
      },
      "source": [
        "#Question 7(e)\n",
        "for i in range (65,70):\n",
        "    for j in range(65,i+1):\n",
        "        print(chr(j),end=\"\")\n",
        "    print()"
      ],
      "execution_count": null,
      "outputs": [
        {
          "output_type": "stream",
          "text": [
            "A\n",
            "AB\n",
            "ABC\n",
            "ABCD\n",
            "ABCDE\n"
          ],
          "name": "stdout"
        }
      ]
    },
    {
      "cell_type": "code",
      "metadata": {
        "id": "HOy9Me_DKAMy"
      },
      "source": [
        "#Question 7(a)\n",
        "n =5  \n",
        "for i in range(0, n): \n",
        "        for j in range(0, i + 1):  \n",
        "            print(\"* \", end=\"\")       \n",
        "    \n",
        "        print()  "
      ],
      "execution_count": null,
      "outputs": []
    },
    {
      "cell_type": "code",
      "metadata": {
        "colab": {
          "base_uri": "https://localhost:8080/"
        },
        "id": "0z3dlBpQu89Q",
        "outputId": "5928c8ef-bf7c-449d-ca4e-e08f85828e2f"
      },
      "source": [
        "for i in range(4,0,-1): \n",
        "  for j in range(0,i): \n",
        "    print(4 - j, end = \" \") \n",
        "  print() "
      ],
      "execution_count": null,
      "outputs": [
        {
          "output_type": "stream",
          "text": [
            "4 3 2 1 \n",
            "4 3 2 \n",
            "4 3 \n",
            "4 \n"
          ],
          "name": "stdout"
        }
      ]
    },
    {
      "cell_type": "code",
      "metadata": {
        "colab": {
          "base_uri": "https://localhost:8080/"
        },
        "id": "51Uk6otCx58z",
        "outputId": "9237b36c-3f11-428f-cb3c-a24107075a99"
      },
      "source": [
        "n = 5\n",
        "for i in range(1,n+1):\n",
        "    for j in range(1, i+1):\n",
        "        print(i, end=\"\")\n",
        "    print()"
      ],
      "execution_count": null,
      "outputs": [
        {
          "output_type": "stream",
          "text": [
            "1\n",
            "22\n",
            "333\n",
            "4444\n",
            "55555\n"
          ],
          "name": "stdout"
        }
      ]
    },
    {
      "cell_type": "code",
      "metadata": {
        "id": "OCKwAwlNPJwe"
      },
      "source": [
        "#  Print the table of a number entered by the user\n",
        "num=int(input(\"Enter the number to print the tables for:\"))\n",
        "for i in range(1,11):\n",
        "    print(num,\"x\",i,\"=\",num*i)"
      ],
      "execution_count": null,
      "outputs": []
    },
    {
      "cell_type": "code",
      "metadata": {
        "colab": {
          "base_uri": "https://localhost:8080/"
        },
        "id": "2MqP5y7SVikv",
        "outputId": "df2bae00-1d16-4110-e229-89b88b557b51"
      },
      "source": [
        "num=int(input(\"Enter a number to find factorial: \"))\n",
        "fact=1; \n",
        "if num<0:\n",
        "   print(\"Negative Integers are not defined in Factorial\");\n",
        "elif(num==0):\n",
        "    print(\"The factorial of 0 is 1\");\n",
        "else:\n",
        "  while(num>0):\n",
        "        fact=fact*num\n",
        "        \n",
        "        num=num-1   \n",
        "  print(\"Factorial of the given number is: \")\n",
        "  print(fact)"
      ],
      "execution_count": null,
      "outputs": [
        {
          "output_type": "stream",
          "name": "stdout",
          "text": [
            "Enter a number to find factorial: -12\n",
            "Negative Integers are not defined in Factorial\n"
          ]
        }
      ]
    },
    {
      "cell_type": "code",
      "metadata": {
        "id": "6m6RrzsIXOLu"
      },
      "source": [
        "max = int(input(\" Please Enter the Maximum Value : \"))\n",
        "total = 0\n",
        "\n",
        "for num in range(1, max+1):\n",
        "    if(num % 2 == 0):\n",
        "        print(\"{0}\".format(number))\n",
        "        total = total + number\n",
        "\n",
        "print(\"The Sum of Even Numbers from 1 to {0} = {1}\".format(number, total))"
      ],
      "execution_count": null,
      "outputs": []
    },
    {
      "cell_type": "code",
      "metadata": {
        "colab": {
          "base_uri": "https://localhost:8080/"
        },
        "id": "DkNlT09xdCT9",
        "outputId": "1fe9ce26-ac18-4e5e-da82-f5261319abb6"
      },
      "source": [
        "def count_chars(str):\n",
        "     upper_ctr, lower_ctr, number_ctr, special_ctr = 0, 0, 0, 0\n",
        "     for i in range(len(str)):\n",
        "          if str[i] >= 'A' and str[i] <= 'Z': upper_ctr += 1\n",
        "          elif str[i] >= 'a' and str[i] <= 'z': lower_ctr += 1\n",
        "          elif str[i] >= '0' and str[i] <= '9': number_ctr += 1\n",
        "          else: special_ctr += 1\n",
        "     return upper_ctr, lower_ctr, number_ctr, special_ctr\n",
        "           \n",
        "str = input(\"Enter the string\")\n",
        "u, l, n, s = count_chars(str)\n",
        "print('\\nUpper case characters: ',u)\n",
        "print('Lower case characters: ',l)\n",
        "print('Number case: ',n)\n",
        "print('Special case characters: ',s)"
      ],
      "execution_count": null,
      "outputs": [
        {
          "output_type": "stream",
          "name": "stdout",
          "text": [
            "Enter the stringVedant_isking\n",
            "\n",
            "Upper case characters:  1\n",
            "Lower case characters:  11\n",
            "Number case:  0\n",
            "Special case characters:  1\n"
          ]
        }
      ]
    },
    {
      "cell_type": "code",
      "metadata": {
        "colab": {
          "base_uri": "https://localhost:8080/"
        },
        "id": "7SRFVfWH9fU3",
        "outputId": "465e403c-3429-42f7-969c-07577f35da85"
      },
      "source": [
        "#A programme to Toggle string input of User.\n",
        "\n",
        "def Togglecharacter(str):\n",
        "    ln = len(str)\n",
        " \n",
        "    for i in range(ln):\n",
        "        if str[i] >= 'a' and str[i] <= 'z':\n",
        " \n",
        "             str[i] = chr(ord(str[i]) - 32)\n",
        " \n",
        "        elif str[i] >= 'A' and str[i] <= 'Z':\n",
        " \n",
        "            str[i] = chr(ord(str[i]) + 32)\n",
        " \n",
        "if __name__ == \"__main__\":\n",
        "    str = input(\"Enter your desired String:\")\n",
        "    str = list(str)\n",
        " \n",
        "    Togglecharacter(str)\n",
        "    str = ''.join(str)\n",
        "    print(str)"
      ],
      "execution_count": null,
      "outputs": [
        {
          "output_type": "stream",
          "name": "stdout",
          "text": [
            "Enter your desired String:cOMPUTER SCIENCE \n",
            "Computer science \n"
          ]
        }
      ]
    },
    {
      "cell_type": "code",
      "metadata": {
        "id": "ZUt6gNrNnWpQ"
      },
      "source": [
        "# Answer for Question Number=>2\n",
        "\n",
        "heit = float(input(\"Enter your height (in cm): \"))\n",
        "weit = float(input(\"Enter your weight (in kg): \"))\n",
        "bmi = weit / (heit/100)**2\n",
        "print(f\"You BMI is {bmi}\")"
      ],
      "execution_count": null,
      "outputs": []
    },
    {
      "cell_type": "code",
      "metadata": {
        "colab": {
          "base_uri": "https://localhost:8080/"
        },
        "id": "It8WZkBrpjzE",
        "outputId": "f659bc49-f880-4780-d9c7-f8e3afb79eae"
      },
      "source": [
        "#Write user defined functions in a menu based python program to calculate= Simple interest\n",
        "P = int(input(\"Enter the value for principle:\"))\n",
        "R = int(input(\"Enter the Vlaue for rate:\"))\n",
        "T = int(input(\"Enter the value for time(in years):\"))\n",
        "SI = (P * R * T) / 100\n",
        "print(\"The simple interest is:\", SI)"
      ],
      "execution_count": null,
      "outputs": [
        {
          "output_type": "stream",
          "name": "stdout",
          "text": [
            "Enter the value for principle:1000\n",
            "Enter the Vlaue for rate:2\n",
            "Enter the value for time(in years):4\n",
            "The simple interest is: 80.0\n"
          ]
        }
      ]
    },
    {
      "cell_type": "code",
      "metadata": {
        "id": "YpuZGjtYaIg8"
      },
      "source": [
        "# Converting the time input as seconds and then fgiving out the time in hours/mins/secs\n",
        "\n",
        "def convert(sec):\n",
        "\tsec = sec % (24 * 3600)\n",
        "\thour = sec // 3600\n",
        "\tsec %= 3600\n",
        "\tmin = sec // 60\n",
        "\tsec %= 60\n",
        "\t\n",
        "\treturn \"%d hrs and %02d mins and %02d secs\" % (hour, min, sec)\n",
        "\t\n",
        "n =int(input(\"Enter the time in seconds:\"))\n",
        "print(convert(n))"
      ],
      "execution_count": null,
      "outputs": []
    },
    {
      "cell_type": "code",
      "metadata": {
        "colab": {
          "base_uri": "https://localhost:8080/"
        },
        "id": "0KGAzT1pGXmn",
        "outputId": "04f08e11-44d7-4922-9b02-2a445bc03db0"
      },
      "source": [
        "# \n",
        "pr= float(input(\"Enter the value for principle :\"))\n",
        "rate= float(input(\"Enter the value for rate :\"))\n",
        "time= float(input(\"Enter the value for time :\"))\n",
        "\n",
        "CI =  pr * (pow((1 + rate / 100), time)) \n",
        "print(\"The value for Compund Interest is:\" ,CI )"
      ],
      "execution_count": 3,
      "outputs": [
        {
          "output_type": "stream",
          "name": "stdout",
          "text": [
            "Enter the value for principle :1000\n",
            "Enter the value for rate :2\n",
            "Enter the value for time :4\n",
            "The value for Compund Interest is: 1082.43216\n"
          ]
        }
      ]
    },
    {
      "cell_type": "code",
      "metadata": {
        "id": "uJeTpDJ3HllQ"
      },
      "source": [
        ""
      ],
      "execution_count": null,
      "outputs": []
    }
  ]
}